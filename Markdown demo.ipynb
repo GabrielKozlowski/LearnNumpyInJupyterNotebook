{
 "cells": [
  {
   "cell_type": "markdown",
   "id": "8ce02531",
   "metadata": {},
   "source": [
    "# Important Module in Data Analysis with Pyhon\n",
    "\n",
    "## Pandas\n",
    "![Logo.Pandas](https://upload.wikimedia.org/wikipedia/commons/4/45/Pandas_logo.png)\n",
    "pandas is an open sourse, BSD-licensed library providing high-performance, easy-to-use data structiures and data analysis tools for the Python programing language.\n",
    "\n",
    "[More details](http://pandas.pydata.org/)\n",
    "\n",
    "## Numpy\n",
    "NumPy is the fundamental package for scientific computing with Pyton. It contains among other things:\n",
    "![Logo.NumPy](https://numpy.org/devdocs/_static/numpylogo.svg)\n",
    "- a powerful N-dimensianal array object\n",
    "- spohisticated (boardcasting) functions\n",
    "- tools for integrating C/C++ and Fortran code\n",
    "- useful linear algebra, Fourier transfrom, and random number capabilities\n",
    "\n",
    "[More details](http://www.numpy.org/)\n",
    "\n",
    "    for i in range(10):\n",
    "        print(i)\n",
    "\n",
    "2\\*2\\*2\n",
    "\n",
    "\n"
   ]
  },
  {
   "cell_type": "markdown",
   "id": "a62993f7",
   "metadata": {},
   "source": [
    "$$e^x=\\sum_{i=0}^\\infty \\frac{1}{i!}x^i$$\n"
   ]
  },
  {
   "cell_type": "code",
   "execution_count": null,
   "id": "9d516954",
   "metadata": {},
   "outputs": [],
   "source": []
  }
 ],
 "metadata": {
  "kernelspec": {
   "display_name": "Python 3 (ipykernel)",
   "language": "python",
   "name": "python3"
  },
  "language_info": {
   "codemirror_mode": {
    "name": "ipython",
    "version": 3
   },
   "file_extension": ".py",
   "mimetype": "text/x-python",
   "name": "python",
   "nbconvert_exporter": "python",
   "pygments_lexer": "ipython3",
   "version": "3.9.7"
  }
 },
 "nbformat": 4,
 "nbformat_minor": 5
}
